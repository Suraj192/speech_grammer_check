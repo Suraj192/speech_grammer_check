{
 "cells": [
  {
   "cell_type": "code",
   "execution_count": 26,
   "id": "85072bc1",
   "metadata": {},
   "outputs": [],
   "source": [
    "import speech_recognition as sr\n",
    "from pydub.silence import split_on_silence\n",
    "def take_commands():\n",
    "     \n",
    "    # Making the use of Recognizer and Microphone\n",
    "    # Method from Speech Recognition for taking\n",
    "    # commands\n",
    "    r = sr.Recognizer()\n",
    "     \n",
    "    with sr.Microphone() as source:\n",
    "        print('Listening')\n",
    "         \n",
    "        # seconds of non-speaking audio before\n",
    "        # a phrase is considered complete\n",
    "        r.pause_threshold = 2\n",
    "        r.phrase_threshold = 0.6\n",
    "        r.adjust_for_ambient_noise(source)\n",
    "        audio = r.listen(source)\n",
    "        chunks = split_on_silence(audio, min_silence_len=600, silence_thresh=-16)\n",
    "        for chunk in chunks: \n",
    "            try:\n",
    "                print(\"Recognizing\")\n",
    "             \n",
    "                # for listening the command in indian english\n",
    "                Query = r.recognize_google(chunk, language='en-in')\n",
    "                # for printing the query or the command that we give\n",
    "                print(\"the query is printed='\", Query, \"'\")\n",
    "            except Exception as e:\n",
    "             \n",
    "                # this method is for handling the exception\n",
    "                # and so that assistant can ask for telling\n",
    "                # again the command\n",
    "                print(e) \n",
    "                print(\"Say that again sir\")\n",
    "                return \"None\"\n",
    "         \n",
    "        return Query"
   ]
  },
  {
   "cell_type": "code",
   "execution_count": 27,
   "id": "2019bf82",
   "metadata": {},
   "outputs": [
    {
     "name": "stdout",
     "output_type": "stream",
     "text": [
      "Listening\n",
      "Recognizing\n",
      "result2:\n",
      "{   'alternative': [   {   'confidence': 0.8402428,\n",
      "                           'transcript': 'hi my name is Siddharth Sharma I '\n",
      "                                         'live in Finland Helsinki'},\n",
      "                       {   'transcript': 'hi my name is Sue. Surma I live in '\n",
      "                                         'Finland Helsinki'},\n",
      "                       {   'transcript': 'hi my name is Sue. Salma I live in '\n",
      "                                         'Finland Helsinki'},\n",
      "                       {   'transcript': 'hi my name is Sue. Selma I live in '\n",
      "                                         'Finland Helsinki'},\n",
      "                       {   'transcript': 'hi my name is Judith Sarma I live in '\n",
      "                                         'Finland Helsinki'}],\n",
      "    'final': True}\n",
      "the query is printed=' hi my name is Siddharth Sharma I live in Finland Helsinki . '\n"
     ]
    },
    {
     "data": {
      "text/plain": [
       "'hi my name is Siddharth Sharma I live in Finland Helsinki'"
      ]
     },
     "execution_count": 27,
     "metadata": {},
     "output_type": "execute_result"
    }
   ],
   "source": [
    "take_commands()"
   ]
  },
  {
   "cell_type": "code",
   "execution_count": null,
   "id": "e542cc29",
   "metadata": {},
   "outputs": [],
   "source": []
  }
 ],
 "metadata": {
  "kernelspec": {
   "display_name": "Python 3 (ipykernel)",
   "language": "python",
   "name": "python3"
  },
  "language_info": {
   "codemirror_mode": {
    "name": "ipython",
    "version": 3
   },
   "file_extension": ".py",
   "mimetype": "text/x-python",
   "name": "python",
   "nbconvert_exporter": "python",
   "pygments_lexer": "ipython3",
   "version": "3.9.13"
  }
 },
 "nbformat": 4,
 "nbformat_minor": 5
}
