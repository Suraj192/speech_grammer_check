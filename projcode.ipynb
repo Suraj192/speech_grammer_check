{
 "cells": [
  {
   "cell_type": "code",
   "execution_count": 1,
   "id": "4440dc09",
   "metadata": {},
   "outputs": [
    {
     "name": "stderr",
     "output_type": "stream",
     "text": [
      "C:\\Users\\suraj\\anaconda3\\lib\\site-packages\\pydub\\utils.py:170: RuntimeWarning: Couldn't find ffmpeg or avconv - defaulting to ffmpeg, but may not work\n",
      "  warn(\"Couldn't find ffmpeg or avconv - defaulting to ffmpeg, but may not work\", RuntimeWarning)\n"
     ]
    }
   ],
   "source": [
    "import speech_recognition as sr\n",
    "from pydub import AudioSegment\n",
    "from pydub.silence import split_on_silence\n",
    "import sounddevice as sd\n",
    "from scipy.io.wavfile import write\n",
    "import wavio as wv\n"
   ]
  },
  {
   "cell_type": "code",
   "execution_count": 5,
   "id": "0c5932e0",
   "metadata": {},
   "outputs": [],
   "source": [
    "import soundfile as sf"
   ]
  },
  {
   "cell_type": "code",
   "execution_count": 9,
   "id": "1ef5831d",
   "metadata": {},
   "outputs": [],
   "source": [
    "# taking audio recording and and making it the wave file\n",
    "# sampling frequency\n",
    "freq = 44100\n",
    "# setting the recording duration in second\n",
    "duration = 10\n",
    "# starting the recorder with the given values of duration and sam. freq.\n",
    "recording = sd.rec(int(duration*freq), samplerate=freq, channels=2)\n",
    "\n",
    "# Record and wait audio for the given number of seconds\n",
    "sd.wait()\n",
    "\n",
    "# saving the audio file\n",
    "wv.write(\"recording1.wav\", recording, freq, sampwidth= 2)\n",
    "\n"
   ]
  },
  {
   "cell_type": "code",
   "execution_count": 10,
   "id": "85f7ff27",
   "metadata": {},
   "outputs": [],
   "source": [
    "# checking the recording if it is well performed or not\n",
    "array, smp_rt = sf.read(\"recording1.wav\", dtype='float32')\n",
    "sd.play(array, smp_rt)\n",
    "status = sd.wait()\n",
    "sd.stop()"
   ]
  },
  {
   "cell_type": "code",
   "execution_count": null,
   "id": "3d0959dc",
   "metadata": {},
   "outputs": [],
   "source": []
  },
  {
   "cell_type": "code",
   "execution_count": null,
   "id": "59ad70aa",
   "metadata": {},
   "outputs": [],
   "source": [
    "#chunks = split_on_silence(audio, min_silence_len=500, silence_thresh=-16)\n",
    "#        for chunk in chunks: \n",
    "#            chunk_silent = AudioSegment.silent(duration = 100)\n",
    "#            audio_chunk = chunk_silent + chunk + chunk_silent"
   ]
  },
  {
   "cell_type": "code",
   "execution_count": 43,
   "id": "49deccd2",
   "metadata": {},
   "outputs": [],
   "source": [
    "\n",
    "\n",
    "def take_commands():\n",
    "     \n",
    "    # Making the use of Recognizer and Microphone\n",
    "    # Method from Speech Recognition for taking\n",
    "    # commands\n",
    "    r = sr.Recognizer()\n",
    "     \n",
    "    with sr.Microphone() as source:\n",
    "        print('Listening')\n",
    "         \n",
    "        # seconds of non-speaking audio before\n",
    "        # a phrase is considered complete\n",
    "        r.pause_threshold = 2\n",
    "        r.phrase_threshold = 0.6\n",
    "        r.adjust_for_ambient_noise(source)\n",
    "        audio = r.listen(source)\n",
    "        try:\n",
    "            print(\"Recognizing\")\n",
    "             \n",
    "                # for listening the command in indian english\n",
    "            Query = r.recognize_google(audio, language='en-in')\n",
    "                # for printing the query or the command that we give\n",
    "            print(\"the query is printed='\", Query, \"'\")\n",
    "        except Exception as e:\n",
    "             \n",
    "                # this method is for handling the exception\n",
    "                # and so that assistant can ask for telling\n",
    "                # again the command\n",
    "            print(e) \n",
    "            print(\"Say that again sir\")\n",
    "            return \"None\"\n",
    "         \n",
    "    return Query"
   ]
  },
  {
   "cell_type": "code",
   "execution_count": 44,
   "id": "71afd5f9",
   "metadata": {},
   "outputs": [
    {
     "name": "stdout",
     "output_type": "stream",
     "text": [
      "Listening\n",
      "Recognizing\n",
      "result2:\n",
      "{   'alternative': [   {   'confidence': 0.97463548,\n",
      "                           'transcript': 'hello my name is Suraj Sharma I live '\n",
      "                                         'in Helsinki Finland'},\n",
      "                       {   'transcript': 'hello my name is Suraj Selma I live '\n",
      "                                         'in Helsinki Finland'},\n",
      "                       {   'transcript': 'hello my name is Surat Sama I live '\n",
      "                                         'in Helsinki Finland'},\n",
      "                       {   'transcript': 'hello my name is Sue. Salma I live '\n",
      "                                         'in Helsinki Finland'},\n",
      "                       {   'transcript': 'hello my name is Sue Road Selma I '\n",
      "                                         'live in Helsinki Finland'}],\n",
      "    'final': True}\n",
      "the query is printed=' hello my name is Suraj Sharma I live in Helsinki Finland '\n"
     ]
    },
    {
     "data": {
      "text/plain": [
       "'hello my name is Suraj Sharma I live in Helsinki Finland'"
      ]
     },
     "execution_count": 44,
     "metadata": {},
     "output_type": "execute_result"
    }
   ],
   "source": [
    "take_commands()"
   ]
  },
  {
   "cell_type": "code",
   "execution_count": null,
   "id": "f7570986",
   "metadata": {},
   "outputs": [],
   "source": []
  }
 ],
 "metadata": {
  "kernelspec": {
   "display_name": "Python 3 (ipykernel)",
   "language": "python",
   "name": "python3"
  },
  "language_info": {
   "codemirror_mode": {
    "name": "ipython",
    "version": 3
   },
   "file_extension": ".py",
   "mimetype": "text/x-python",
   "name": "python",
   "nbconvert_exporter": "python",
   "pygments_lexer": "ipython3",
   "version": "3.9.13"
  }
 },
 "nbformat": 4,
 "nbformat_minor": 5
}
