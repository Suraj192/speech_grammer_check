{
 "cells": [
  {
   "cell_type": "code",
   "execution_count": 1,
   "id": "4440dc09",
   "metadata": {},
   "outputs": [],
   "source": [
    "import speech_recognition as sr\n",
    "import os\n",
    "import pandas as pd\n",
    "\n",
    "\n",
    "def read_aloud(path):\n",
    "         \n",
    "    r = sr.Recognizer()\n",
    "    reading = sr.AudioFile(path)\n",
    "    with reading as source:\n",
    "          \n",
    "        print('processing')\n",
    "        audio = r.record(source)  \n",
    "        try:\n",
    "            Query = r.recognize_google(audio, language='en-In')\n",
    "            Query = Query.lower().split()\n",
    "            #print(len(Query))\n",
    "            result = score(Query) \n",
    "            print(\"Processed\")\n",
    "          \n",
    "        except Exception as e:\n",
    "            print(e)  \n",
    "            print(\"Processing failed\")\n",
    "            return \"None\"\n",
    "        return result\n",
    "\n",
    "\n",
    "def score(query):\n",
    "    questions = pd.read_table(\"readaloud.txt\", delimiter= \"|\", header= 0, index_col=0)\n",
    "    listofscore = []\n",
    "    for i in range(questions.size):\n",
    "        check_text = questions.loc[i+1][0].lower()\n",
    "        check_text = check_text.replace(\".\",\"\").replace(\",\",\"\").split()\n",
    "        check_score = len(check_text)\n",
    "        count = 0\n",
    "        for w in query:\n",
    "            if w in check_text:\n",
    "                count +=1\n",
    "        score = round((count/check_score * 5),1)\n",
    "        listofscore.append(score)\n",
    "    \n",
    "    return max(listofscore)"
   ]
  },
  {
   "cell_type": "code",
   "execution_count": null,
   "id": "03fcc886",
   "metadata": {},
   "outputs": [],
   "source": []
  }
 ],
 "metadata": {
  "kernelspec": {
   "display_name": "Python 3 (ipykernel)",
   "language": "python",
   "name": "python3"
  },
  "language_info": {
   "codemirror_mode": {
    "name": "ipython",
    "version": 3
   },
   "file_extension": ".py",
   "mimetype": "text/x-python",
   "name": "python",
   "nbconvert_exporter": "python",
   "pygments_lexer": "ipython3",
   "version": "3.9.13"
  }
 },
 "nbformat": 4,
 "nbformat_minor": 5
}
